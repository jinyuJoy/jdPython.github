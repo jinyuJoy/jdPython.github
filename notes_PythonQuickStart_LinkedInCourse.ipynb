{
 "cells": [
  {
   "cell_type": "code",
   "execution_count": 15,
   "metadata": {},
   "outputs": [
    {
     "name": "stdout",
     "output_type": "stream",
     "text": [
      "hello\n",
      "3+5\n"
     ]
    }
   ],
   "source": [
    "print(\"hello\")\n",
    "print(\"3+5\")"
   ]
  },
  {
   "cell_type": "markdown",
   "metadata": {},
   "source": [
    "## 2.2  Python data types"
   ]
  },
  {
   "cell_type": "markdown",
   "metadata": {},
   "source": [
    "### Booleans"
   ]
  },
  {
   "cell_type": "code",
   "execution_count": 4,
   "metadata": {},
   "outputs": [
    {
     "data": {
      "text/plain": [
       "bool"
      ]
     },
     "execution_count": 4,
     "metadata": {},
     "output_type": "execute_result"
    }
   ],
   "source": [
    "type(True)\n",
    "type(False)"
   ]
  },
  {
   "cell_type": "markdown",
   "metadata": {},
   "source": [
    "### Integers"
   ]
  },
  {
   "cell_type": "code",
   "execution_count": 5,
   "metadata": {},
   "outputs": [
    {
     "data": {
      "text/plain": [
       "int"
      ]
     },
     "execution_count": 5,
     "metadata": {},
     "output_type": "execute_result"
    }
   ],
   "source": [
    "type(-11)"
   ]
  },
  {
   "cell_type": "markdown",
   "metadata": {},
   "source": [
    "### Floating point numbers"
   ]
  },
  {
   "cell_type": "code",
   "execution_count": 6,
   "metadata": {},
   "outputs": [
    {
     "data": {
      "text/plain": [
       "float"
      ]
     },
     "execution_count": 6,
     "metadata": {},
     "output_type": "execute_result"
    }
   ],
   "source": [
    "type(4.)\n",
    "type(5e10)\n",
    "type(5e-10)"
   ]
  },
  {
   "cell_type": "markdown",
   "metadata": {},
   "source": [
    "### Strings"
   ]
  },
  {
   "cell_type": "code",
   "execution_count": 9,
   "metadata": {},
   "outputs": [
    {
     "data": {
      "text/plain": [
       "str"
      ]
     },
     "execution_count": 9,
     "metadata": {},
     "output_type": "execute_result"
    }
   ],
   "source": [
    "type(\"m\")\n",
    "type(\"message me\")\n",
    "type(\"7\")\n",
    "type(\"2+5\")"
   ]
  },
  {
   "cell_type": "markdown",
   "metadata": {},
   "source": [
    "## 2.3 Store data using variables"
   ]
  },
  {
   "cell_type": "code",
   "execution_count": 12,
   "metadata": {},
   "outputs": [
    {
     "name": "stdout",
     "output_type": "stream",
     "text": [
      "10\n"
     ]
    }
   ],
   "source": [
    "guesses = 10\n",
    "print(guesses)"
   ]
  },
  {
   "cell_type": "code",
   "execution_count": 13,
   "metadata": {},
   "outputs": [
    {
     "name": "stdout",
     "output_type": "stream",
     "text": [
      "9\n"
     ]
    }
   ],
   "source": [
    "guesses -= 1 # decrease by 1\n",
    "print(guesses)"
   ]
  },
  {
   "cell_type": "markdown",
   "metadata": {},
   "source": [
    "# 3. Fundamentals of Programming in Python: functions"
   ]
  },
  {
   "cell_type": "markdown",
   "metadata": {},
   "source": [
    "## 3.1 What is a function?\n",
    "#### A function is a block of reusable code that is used to perform a single action. "
   ]
  },
  {
   "cell_type": "code",
   "execution_count": 14,
   "metadata": {},
   "outputs": [
    {
     "name": "stdout",
     "output_type": "stream",
     "text": [
      "Please tell me your name:Jinyu Du\n",
      "Please tell me the time of day(morning/afternoon/evening):afternoon\n",
      "Good afternoon, Jinyu Du!\n"
     ]
    }
   ],
   "source": [
    "def greet():\n",
    "    name = input(\"Please tell me your name:\")\n",
    "    time = input(\"Please tell me the time of day(morning/afternoon/evening):\")\n",
    "    print(\"Good \" + time + \", \" + name + \"!\")\n",
    "    \n",
    "greet()    "
   ]
  },
  {
   "cell_type": "markdown",
   "metadata": {},
   "source": [
    "## 3.2 Built-in functions in Python\n",
    "## 3.3 Define and call your own functions"
   ]
  },
  {
   "cell_type": "code",
   "execution_count": null,
   "metadata": {},
   "outputs": [],
   "source": [
    "def addFive(x):\n",
    "    print(x + 5)    "
   ]
  },
  {
   "cell_type": "code",
   "execution_count": null,
   "metadata": {},
   "outputs": [],
   "source": [
    "addFive(30)"
   ]
  },
  {
   "cell_type": "markdown",
   "metadata": {},
   "source": [
    "## 3.4 Types of functions"
   ]
  },
  {
   "cell_type": "code",
   "execution_count": null,
   "metadata": {},
   "outputs": [],
   "source": [
    "def greeting():\n",
    "    print(\"Hi! You are beautiful!\")"
   ]
  },
  {
   "cell_type": "code",
   "execution_count": null,
   "metadata": {},
   "outputs": [],
   "source": [
    "greeting()"
   ]
  },
  {
   "cell_type": "code",
   "execution_count": null,
   "metadata": {},
   "outputs": [],
   "source": [
    "def greeting(name): # name should be a string\n",
    "    print(\"Hi \" + name + \",  you are beautiful!\")"
   ]
  },
  {
   "cell_type": "code",
   "execution_count": 29,
   "metadata": {},
   "outputs": [
    {
     "name": "stdout",
     "output_type": "stream",
     "text": [
      "Hi Jinyu,  you are beautiful!\n"
     ]
    }
   ],
   "source": [
    "greeting(\"Jinyu\")"
   ]
  },
  {
   "cell_type": "code",
   "execution_count": 30,
   "metadata": {},
   "outputs": [],
   "source": [
    "def square(x):\n",
    "    return(x*x)"
   ]
  },
  {
   "cell_type": "code",
   "execution_count": 33,
   "metadata": {},
   "outputs": [
    {
     "name": "stdout",
     "output_type": "stream",
     "text": [
      "36\n"
     ]
    }
   ],
   "source": [
    "result = square(6)\n",
    "print(result)"
   ]
  },
  {
   "cell_type": "code",
   "execution_count": 36,
   "metadata": {},
   "outputs": [],
   "source": [
    "def sumOfsquares(x, y):\n",
    "    square1 = x*x\n",
    "    square2 = y*y\n",
    "    return(square1 + square2)"
   ]
  },
  {
   "cell_type": "code",
   "execution_count": 37,
   "metadata": {},
   "outputs": [
    {
     "data": {
      "text/plain": [
       "25"
      ]
     },
     "execution_count": 37,
     "metadata": {},
     "output_type": "execute_result"
    }
   ],
   "source": [
    "sumOfsquares(3, 4)"
   ]
  },
  {
   "cell_type": "code",
   "execution_count": 38,
   "metadata": {},
   "outputs": [],
   "source": [
    "def is_it_raining():\n",
    "    raining = input(\"Is it raining today? (Yes/No)\")\n",
    "    return raining"
   ]
  },
  {
   "cell_type": "code",
   "execution_count": 40,
   "metadata": {},
   "outputs": [
    {
     "name": "stdout",
     "output_type": "stream",
     "text": [
      "Is it raining today? (Yes/No)Yes\n",
      "Yes\n"
     ]
    }
   ],
   "source": [
    "Firday = is_it_raining()\n",
    "print(Firday)"
   ]
  },
  {
   "cell_type": "markdown",
   "metadata": {},
   "source": [
    "## 3.5 Modules in Python\n",
    "A module is a software component that contains one or more routines"
   ]
  },
  {
   "cell_type": "code",
   "execution_count": 43,
   "metadata": {},
   "outputs": [
    {
     "name": "stdout",
     "output_type": "stream",
     "text": [
      "     July 2019\n",
      "Mo Tu We Th Fr Sa Su\n",
      " 1  2  3  4  5  6  7\n",
      " 8  9 10 11 12 13 14\n",
      "15 16 17 18 19 20 21\n",
      "22 23 24 25 26 27 28\n",
      "29 30 31\n",
      "\n"
     ]
    }
   ],
   "source": [
    "import calendar \n",
    "cal = calendar.month(2019, 7)\n",
    "print(cal) # this is nice!\n",
    "# check out this page for more: https://docs.python.org/3/library/calendar.html"
   ]
  },
  {
   "cell_type": "code",
   "execution_count": 45,
   "metadata": {},
   "outputs": [
    {
     "name": "stdout",
     "output_type": "stream",
     "text": [
      "6.0\n"
     ]
    }
   ],
   "source": [
    "import math\n",
    "result = math.sqrt(36)\n",
    "print(result) \n",
    "# check out this page for more: https://docs.python.org/3/library/math.html"
   ]
  },
  {
   "cell_type": "code",
   "execution_count": 47,
   "metadata": {},
   "outputs": [
    {
     "name": "stdout",
     "output_type": "stream",
     "text": [
      "18\n"
     ]
    }
   ],
   "source": [
    "import random\n",
    "result2 = random.randint(1, 100) # discrete uniform\n",
    "print(result2) \n",
    "# check out this page for more: https://docs.python.org/3/library/random.html"
   ]
  },
  {
   "cell_type": "code",
   "execution_count": 49,
   "metadata": {},
   "outputs": [
    {
     "name": "stdout",
     "output_type": "stream",
     "text": [
      "C\n"
     ]
    }
   ],
   "source": [
    "# choose a random item from a sequence\n",
    "movies = [ \"D\", \"E\", \"F\", \"A\", \"B\", \"C\"] # a sequence\n",
    "watch = random.choice(movies) # choice() takes in a sequence as input\n",
    "print(watch)"
   ]
  },
  {
   "cell_type": "code",
   "execution_count": 51,
   "metadata": {},
   "outputs": [
    {
     "name": "stdout",
     "output_type": "stream",
     "text": [
      "['F', 'D', 'C', 'B', 'A', 'E']\n"
     ]
    }
   ],
   "source": [
    "random.shuffle(movies) # randomly shuffle \n",
    "print(movies)"
   ]
  },
  {
   "cell_type": "markdown",
   "metadata": {},
   "source": [
    "# 4 Fundamentals of Programming in Python: sequences\n",
    "## 4.1 What is a sequence?"
   ]
  },
  {
   "cell_type": "code",
   "execution_count": 52,
   "metadata": {},
   "outputs": [
    {
     "data": {
      "text/plain": [
       "list"
      ]
     },
     "execution_count": 52,
     "metadata": {},
     "output_type": "execute_result"
    }
   ],
   "source": [
    "group = [\"Daniel\", \"Adam\", \"Eric\"]\n",
    "type(group)"
   ]
  },
  {
   "cell_type": "markdown",
   "metadata": {},
   "source": [
    "## 4.2 List in Python"
   ]
  },
  {
   "cell_type": "code",
   "execution_count": 58,
   "metadata": {},
   "outputs": [
    {
     "name": "stdout",
     "output_type": "stream",
     "text": [
      "<class 'list'>\n",
      "[5, 10, 15, 20]\n",
      "15\n"
     ]
    }
   ],
   "source": [
    "listA = [5, 10, 15, 20]\n",
    "print(type(listA))\n",
    "print(listA)\n",
    "print(listA[2]) # print the 3rd element in listA\n",
    "# remember that index starts at 0"
   ]
  },
  {
   "cell_type": "code",
   "execution_count": 59,
   "metadata": {},
   "outputs": [
    {
     "name": "stdout",
     "output_type": "stream",
     "text": [
      "[5, 10, 1500, 20]\n"
     ]
    }
   ],
   "source": [
    "listA[2] = 1500 # replace the 3rd element\n",
    "# list can be modified\n",
    "print(listA)"
   ]
  },
  {
   "cell_type": "code",
   "execution_count": 61,
   "metadata": {},
   "outputs": [
    {
     "name": "stdout",
     "output_type": "stream",
     "text": [
      "[5, '10', True, 'Adam', 666.8]\n"
     ]
    }
   ],
   "source": [
    "listB = [5, \"10\", True, \"Adam\", 666.8] \n",
    "# list can contain elements of different types\n",
    "print(listB)"
   ]
  },
  {
   "cell_type": "markdown",
   "metadata": {},
   "source": [
    "## 4.3 Tuples in Python"
   ]
  },
  {
   "cell_type": "code",
   "execution_count": 64,
   "metadata": {},
   "outputs": [
    {
     "data": {
      "text/plain": [
       "'Julia'"
      ]
     },
     "execution_count": 64,
     "metadata": {},
     "output_type": "execute_result"
    }
   ],
   "source": [
    "# elements in a tuple can not be changed\n",
    "child1_birth = (\"Julia\", \"Lucile Packard Children's Hospital\", \"Stanford\", \"CA\", \"U.S.\", \"07/29/2019\", \"7am\")\n",
    "type(child1_birth)\n",
    "print(child1_birth[0])"
   ]
  },
  {
   "cell_type": "markdown",
   "metadata": {},
   "source": [
    "# 5 Conditional statements\n",
    "## 5.1 What are  conditional statements?"
   ]
  },
  {
   "cell_type": "code",
   "execution_count": 66,
   "metadata": {},
   "outputs": [
    {
     "name": "stdout",
     "output_type": "stream",
     "text": [
      "Is it raining today? (Yes/No)No\n"
     ]
    }
   ],
   "source": [
    "raining = input(\"Is it raining today? (Yes/No)\")\n",
    "if raining == \"Yes\":\n",
    "    print(\"You need an umbrella!\")"
   ]
  },
  {
   "cell_type": "markdown",
   "metadata": {},
   "source": [
    "## 5.2 If statement"
   ]
  },
  {
   "cell_type": "code",
   "execution_count": null,
   "metadata": {},
   "outputs": [],
   "source": [
    "n = input(\"Choose an integer between -10 and 10 and enter it here: \")\n",
    "# n is a string using the input()\n",
    "n = int(n)\n",
    "if n < 5:\n",
    "    print(\" The integer is less than 5.\")"
   ]
  },
  {
   "cell_type": "markdown",
   "metadata": {},
   "source": [
    "## 5.3 If-else statement"
   ]
  },
  {
   "cell_type": "code",
   "execution_count": 1,
   "metadata": {},
   "outputs": [],
   "source": [
    "def minimum(x, y):\n",
    "    if x < y:\n",
    "        return x\n",
    "    else: \n",
    "        return y  "
   ]
  },
  {
   "cell_type": "code",
   "execution_count": 4,
   "metadata": {},
   "outputs": [
    {
     "data": {
      "text/plain": [
       "8"
      ]
     },
     "execution_count": 4,
     "metadata": {},
     "output_type": "execute_result"
    }
   ],
   "source": [
    "compare1 = minimum(8,19)\n",
    "compare1"
   ]
  },
  {
   "cell_type": "code",
   "execution_count": 5,
   "metadata": {},
   "outputs": [
    {
     "data": {
      "text/plain": [
       "-5"
      ]
     },
     "execution_count": 5,
     "metadata": {},
     "output_type": "execute_result"
    }
   ],
   "source": [
    "compare2 = minimum(-2,-5)\n",
    "compare2"
   ]
  },
  {
   "cell_type": "markdown",
   "metadata": {},
   "source": [
    "## 5.4 if-elif and if-elif -else statement"
   ]
  },
  {
   "cell_type": "code",
   "execution_count": 6,
   "metadata": {},
   "outputs": [
    {
     "name": "stdout",
     "output_type": "stream",
     "text": [
      "Is it raining today? (Yes/No)Yes\n",
      "Do you have an umbrella? (Yes/No)No\n",
      "Wear a waterproof jacket when you go out!\n"
     ]
    }
   ],
   "source": [
    "raining = input(\"Is it raining today? (Yes/No)\")\n",
    "umbrella = input(\"Do you have an umbrella? (Yes/No)\")\n",
    "if raining == \"Yes\" and umbrella == \"Yes\":\n",
    "    print(\"Don't forget your umbrella when you go out!\")\n",
    "elif raining == \"Yes\" and umbrella == \"No\": \n",
    "    print(\"Wear a waterproof jacket when you go out!\")"
   ]
  },
  {
   "cell_type": "code",
   "execution_count": 8,
   "metadata": {},
   "outputs": [
    {
     "name": "stdout",
     "output_type": "stream",
     "text": [
      "Enter a number: 3\n",
      "The number is less than 6 and greater than 2\n"
     ]
    }
   ],
   "source": [
    "x = input(\"Enter a number: \")\n",
    "x = float(x) # need this step!\n",
    "if x < 2:\n",
    "    print(\"The number is less than 2\")\n",
    "elif x < 6:\n",
    "    print(\"The number is less than 6 and greater than 2\")\n",
    "else:\n",
    "    print(\"The number greater than 6\")\n"
   ]
  },
  {
   "cell_type": "markdown",
   "metadata": {},
   "source": [
    "# 6 Iteration\n",
    "## 6.1 What is iteration?\n",
    "### The process of repeatedly performing a set of instructions."
   ]
  },
  {
   "cell_type": "markdown",
   "metadata": {},
   "source": [
    "## 6.2 for loop\n",
    " for loop is a structure that helps you achieve iteration. <br>\n",
    " You can specify a range of numbers using the range(start, stop, step ) function, which default start = 0, step = 1. The range excludes the ending number. "
   ]
  },
  {
   "cell_type": "code",
   "execution_count": 12,
   "metadata": {},
   "outputs": [
    {
     "name": "stdout",
     "output_type": "stream",
     "text": [
      "6\n"
     ]
    }
   ],
   "source": [
    "# hangman game\n",
    "word = \"serendipitous\"\n",
    "vowels = ['a', 'e', 'i', 'o','u']\n",
    "\n",
    "vowelCount = 0\n",
    "for character in word:\n",
    "    if character in vowels:\n",
    "        vowelCount += 1\n",
    "        \n",
    "print(vowelCount)"
   ]
  },
  {
   "cell_type": "code",
   "execution_count": 13,
   "metadata": {},
   "outputs": [
    {
     "name": "stdout",
     "output_type": "stream",
     "text": [
      "0\n",
      "1\n",
      "2\n",
      "3\n"
     ]
    }
   ],
   "source": [
    "for i in range(4):\n",
    "    print(i)"
   ]
  },
  {
   "cell_type": "code",
   "execution_count": 15,
   "metadata": {},
   "outputs": [
    {
     "name": "stdout",
     "output_type": "stream",
     "text": [
      "1\n",
      "3\n",
      "5\n",
      "7\n"
     ]
    }
   ],
   "source": [
    "for i in range(1, 8, 2):\n",
    "    print(i)"
   ]
  },
  {
   "cell_type": "code",
   "execution_count": 16,
   "metadata": {},
   "outputs": [
    {
     "name": "stdout",
     "output_type": "stream",
     "text": [
      "a\n",
      "e\n",
      "i\n",
      "o\n",
      "u\n"
     ]
    }
   ],
   "source": [
    "vowels = ['a', 'e', 'i', 'o','u']\n",
    "for v in vowels:\n",
    "    print(v)"
   ]
  },
  {
   "cell_type": "markdown",
   "metadata": {},
   "source": [
    "## 6.3 while loop"
   ]
  },
  {
   "cell_type": "code",
   "execution_count": 20,
   "metadata": {},
   "outputs": [
    {
     "name": "stdout",
     "output_type": "stream",
     "text": [
      "a\n",
      "e\n",
      "i\n",
      "o\n",
      "u\n"
     ]
    }
   ],
   "source": [
    "vowels = ['a', 'e', 'i', 'o','u']\n",
    "i = 0 \n",
    "while i < len(vowels): # length function\n",
    "    print(vowels[i])\n",
    "    i += 1"
   ]
  },
  {
   "cell_type": "markdown",
   "metadata": {},
   "source": [
    "# 7 Recursion\n",
    "## 7.1 What is a recursive function?\n",
    "Recursion means defining something in terms of itself to achieve your goal. <br>\n",
    "Recursive function is a function that calles itself in the body.\n",
    "### Recursive approach to problem solving\n",
    "A recursive function solves a problem by dividing the problem into smaller subproblems, and calling the function itself to solve each subproblem."
   ]
  },
  {
   "cell_type": "markdown",
   "metadata": {},
   "source": [
    "## 7.2 Define recursive functions"
   ]
  },
  {
   "cell_type": "code",
   "execution_count": 22,
   "metadata": {},
   "outputs": [],
   "source": [
    "def factorial(n):\n",
    "    \"\"\" return the factorial of a positive integer n\"\"\"\n",
    "    if n == 1:\n",
    "        return 1\n",
    "    else:\n",
    "        return n*factorial(n -1)"
   ]
  },
  {
   "cell_type": "code",
   "execution_count": 23,
   "metadata": {},
   "outputs": [],
   "source": [
    "# sum of the digits of a number\n",
    "# sum of the digits = sum of the digits before the last digit + last digit\n",
    "def sum_digits(n):\n",
    "    \"\"\" return sum of the digits of a positive integer n\"\"\"\n",
    "    if n < 10:\n",
    "        return n\n",
    "    else:\n",
    "        all_but_last = n//10 # integer division\n",
    "        last = n % 10 \n",
    "        return sum_digits(all_but_last) + last\n",
    "    "
   ]
  },
  {
   "cell_type": "code",
   "execution_count": 24,
   "metadata": {},
   "outputs": [],
   "source": [
    "# the Fibonacci sequence\n",
    "def fib(n):\n",
    "    \"\"\" return the nth number in the Fibonacci sequence\"\"\"\n",
    "    if n == 1:\n",
    "        return 0\n",
    "    elif n == 2:\n",
    "        return 1\n",
    "    else:\n",
    "        return fib(n - 1) + fib(n - 2)"
   ]
  },
  {
   "cell_type": "code",
   "execution_count": 25,
   "metadata": {},
   "outputs": [],
   "source": [
    "# palindrome\n",
    "def isPalindrome(s):\n",
    "    \"\"\" return whether string is a palindrome\"\"\"\n",
    "    if len(s) <= 1:\n",
    "        return True\n",
    "    else:\n",
    "        return s[0] == s[-1] and isPalindrome(s[1:-1]) # string slicing"
   ]
  },
  {
   "cell_type": "markdown",
   "metadata": {},
   "source": [
    "# 8 Quick intro to object oriented programming (OOP) in Python\n",
    "## 8.1 What is object oriented programming?\n",
    "1. A collection of data and methods that operate on that data\n",
    "2. Every object has a type\n",
    "3. Types define what programs can do with objects of that type\n",
    "4. Each object definition corresponds to a real world concept\n",
    "5. Functions correspond to the ways real-world objects interact \n",
    "6. Every object is an instance of a class"
   ]
  },
  {
   "cell_type": "code",
   "execution_count": 28,
   "metadata": {},
   "outputs": [],
   "source": [
    "class Dog():\n",
    "    def __init__(self, name, age): # two consecutive underscores make a __\n",
    "        self.name = name\n",
    "        self.age = age\n",
    "        \n",
    "    def bark(self):\n",
    "        print(\"Woof woof!\")"
   ]
  },
  {
   "cell_type": "code",
   "execution_count": 29,
   "metadata": {},
   "outputs": [
    {
     "name": "stdout",
     "output_type": "stream",
     "text": [
      "Woof woof!\n"
     ]
    }
   ],
   "source": [
    "fido = Dog(\"Fido\", 2)\n",
    "fido.bark()"
   ]
  },
  {
   "cell_type": "code",
   "execution_count": 30,
   "metadata": {},
   "outputs": [
    {
     "name": "stdout",
     "output_type": "stream",
     "text": [
      "Fido\n",
      "2\n"
     ]
    }
   ],
   "source": [
    "print(fido.name)\n",
    "print(fido.age)"
   ]
  },
  {
   "cell_type": "markdown",
   "metadata": {},
   "source": [
    "# 9 Conclusion\n",
    "Check out the book: Introduction to computation and programming using Python, revised and expanded edition, by John V. Guttag"
   ]
  },
  {
   "cell_type": "code",
   "execution_count": null,
   "metadata": {},
   "outputs": [],
   "source": []
  }
 ],
 "metadata": {
  "kernelspec": {
   "display_name": "Python 3",
   "language": "python",
   "name": "python3"
  },
  "language_info": {
   "codemirror_mode": {
    "name": "ipython",
    "version": 3
   },
   "file_extension": ".py",
   "mimetype": "text/x-python",
   "name": "python",
   "nbconvert_exporter": "python",
   "pygments_lexer": "ipython3",
   "version": "3.8.5"
  }
 },
 "nbformat": 4,
 "nbformat_minor": 4
}
